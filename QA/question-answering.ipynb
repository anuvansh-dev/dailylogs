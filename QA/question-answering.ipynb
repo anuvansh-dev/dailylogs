{
 "cells": [
  {
   "cell_type": "markdown",
   "metadata": {},
   "source": [
    "## Question Answering\n",
    "- It allows extracting answers from a given context, useful for building chatbots for customer support, faq systems etc"
   ]
  },
  {
   "cell_type": "code",
   "execution_count": 1,
   "metadata": {},
   "outputs": [
    {
     "name": "stderr",
     "output_type": "stream",
     "text": [
      "/home/anuvansh/Desktop/huggingface_transformers_test/myenv/lib/python3.11/site-packages/tqdm/auto.py:21: TqdmWarning: IProgress not found. Please update jupyter and ipywidgets. See https://ipywidgets.readthedocs.io/en/stable/user_install.html\n",
      "  from .autonotebook import tqdm as notebook_tqdm\n"
     ]
    }
   ],
   "source": [
    "from transformers import pipeline"
   ]
  },
  {
   "cell_type": "markdown",
   "metadata": {},
   "source": [
    "#### Basic QA using default model- \"distilbert-base-cased-distilled-squad\""
   ]
  },
  {
   "cell_type": "markdown",
   "metadata": {},
   "source": [
    "- Loading model into a pipeline"
   ]
  },
  {
   "cell_type": "code",
   "execution_count": 7,
   "metadata": {},
   "outputs": [
    {
     "name": "stderr",
     "output_type": "stream",
     "text": [
      "Device set to use cpu\n"
     ]
    }
   ],
   "source": [
    "qa_model = pipeline(\"question-answering\", model=\"distilbert-base-cased-distilled-squad\")"
   ]
  },
  {
   "cell_type": "markdown",
   "metadata": {},
   "source": [
    "- QA"
   ]
  },
  {
   "cell_type": "code",
   "execution_count": 8,
   "metadata": {},
   "outputs": [],
   "source": [
    "context = \"\"\"\n",
    "OpenAI is an artificial intelligence research laboratory consisting of researchers and engineers \n",
    "dedicated to developing and promoting AI in a safe and controlled environment.\n",
    "\"\"\"\n",
    "question = \"What does OpenAI do?\""
   ]
  },
  {
   "cell_type": "code",
   "execution_count": 6,
   "metadata": {},
   "outputs": [
    {
     "name": "stdout",
     "output_type": "stream",
     "text": [
      "Question: What does OpenAI do?\n",
      "Answer: developing and promoting AI in a safe and controlled environment\n"
     ]
    }
   ],
   "source": [
    "result = qa_model(question=question, context=context)\n",
    "print(f\"Question: {question}\\nAnswer: {result['answer']}\")"
   ]
  },
  {
   "cell_type": "markdown",
   "metadata": {},
   "source": [
    "### A basic document faq system\n",
    "- Extracting answers from a product manual or faq doc."
   ]
  },
  {
   "cell_type": "code",
   "execution_count": 9,
   "metadata": {},
   "outputs": [
    {
     "name": "stdout",
     "output_type": "stream",
     "text": [
      "Q: What is the screen size of the iPhone 14?\n",
      "A: 6.1-inch\n",
      "Q: How long does the battery last?\n",
      "A: up to 20 hours\n",
      "Q: Which chip is used in the iPhone 14?\n",
      "A: A15 Bionic chip\n"
     ]
    }
   ],
   "source": [
    "product_doc = \"\"\"\n",
    "The iPhone 14 comes with a 6.1-inch OLED display and an improved A15 Bionic chip. It supports wireless charging \n",
    "and has an advanced camera system. The battery lasts for up to 20 hours on a single charge.\n",
    "\"\"\"\n",
    "\n",
    "questions = [\n",
    "    \"What is the screen size of the iPhone 14?\",\n",
    "    \"How long does the battery last?\",\n",
    "    \"Which chip is used in the iPhone 14?\"\n",
    "]\n",
    "\n",
    "for question in questions:\n",
    "    result = qa_model(question=question, context=product_doc)\n",
    "    print(f\"Q: {question}\\nA: {result['answer']}\")\n"
   ]
  },
  {
   "cell_type": "code",
   "execution_count": null,
   "metadata": {},
   "outputs": [],
   "source": []
  }
 ],
 "metadata": {
  "kernelspec": {
   "display_name": "myenv",
   "language": "python",
   "name": "python3"
  },
  "language_info": {
   "codemirror_mode": {
    "name": "ipython",
    "version": 3
   },
   "file_extension": ".py",
   "mimetype": "text/x-python",
   "name": "python",
   "nbconvert_exporter": "python",
   "pygments_lexer": "ipython3",
   "version": "3.11.11"
  }
 },
 "nbformat": 4,
 "nbformat_minor": 2
}
