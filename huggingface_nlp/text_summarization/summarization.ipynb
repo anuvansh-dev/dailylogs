{
 "cells": [
  {
   "cell_type": "markdown",
   "metadata": {},
   "source": [
    "## Text-Summarization"
   ]
  },
  {
   "cell_type": "markdown",
   "metadata": {},
   "source": [
    "1. Loading transformer's default text-summarization model "
   ]
  },
  {
   "cell_type": "code",
   "execution_count": 2,
   "metadata": {},
   "outputs": [
    {
     "name": "stderr",
     "output_type": "stream",
     "text": [
      "No model was supplied, defaulted to sshleifer/distilbart-cnn-12-6 and revision a4f8f3e (https://huggingface.co/sshleifer/distilbart-cnn-12-6).\n",
      "Using a pipeline without specifying a model name and revision in production is not recommended.\n",
      "Device set to use cpu\n"
     ]
    }
   ],
   "source": [
    "from transformers import pipeline\n",
    "summarizer = pipeline(\"summarization\")"
   ]
  },
  {
   "cell_type": "markdown",
   "metadata": {},
   "source": [
    "2. Fetching a sample text data from a file"
   ]
  },
  {
   "cell_type": "code",
   "execution_count": 3,
   "metadata": {},
   "outputs": [
    {
     "name": "stdout",
     "output_type": "stream",
     "text": [
      "A Large Language Model (LLM) is an advanced artificial intelligence system trained on vast amounts of text data to understand and generate human-like language. These models, such as GPT-4, BERT, and LLaMA, use deep learning techniques, specifically transformers, to process and predict text with high accuracy. LLMs can perform various natural language processing (NLP) tasks, including text generation, translation, summarization, question answering, and sentiment analysis. They learn the meaning of words and sentences by analyzing language patterns, making them useful for chatbots, content creation, and decision-making applications. However, they require significant computational power and careful handling to ensure ethical and unbiased outputs.\n"
     ]
    }
   ],
   "source": [
    "with open(\"LLM.txt\") as f:\n",
    "    text = f.read()\n",
    "\n",
    "print(text)"
   ]
  },
  {
   "cell_type": "markdown",
   "metadata": {},
   "source": [
    "3. Summarizing the text using text-summarization model"
   ]
  },
  {
   "cell_type": "code",
   "execution_count": 4,
   "metadata": {},
   "outputs": [
    {
     "name": "stdout",
     "output_type": "stream",
     "text": [
      "[{'summary_text': ' Large Language Model (LLM) is an advanced artificial intelligence system trained on vast amounts of text data to understand and generate human-like language . LLMs can perform various natural language processing tasks, including text generation, translation, summarization, question answering, and sentiment analysis . They learn the meaning of words and sentences by analyzing language patterns .'}]\n"
     ]
    }
   ],
   "source": [
    "summary = summarizer(text)\n",
    "print(summary)"
   ]
  },
  {
   "cell_type": "markdown",
   "metadata": {},
   "source": [
    "4. Storing the summary as a txt file"
   ]
  },
  {
   "cell_type": "code",
   "execution_count": 6,
   "metadata": {},
   "outputs": [],
   "source": [
    "with open(\"summary.txt\", \"w\") as f:\n",
    "    f.write(summary[0]['summary_text'].strip())"
   ]
  },
  {
   "cell_type": "markdown",
   "metadata": {},
   "source": [
    "### Using facebook's bart-large-cm model for summarizing the same text and observing the difference in results"
   ]
  },
  {
   "cell_type": "code",
   "execution_count": 7,
   "metadata": {},
   "outputs": [
    {
     "name": "stderr",
     "output_type": "stream",
     "text": [
      "Device set to use cpu\n"
     ]
    }
   ],
   "source": [
    "new_summarizer = pipeline(task=\"summarization\", model=\"facebook/bart-large-cnn\")"
   ]
  },
  {
   "cell_type": "code",
   "execution_count": 8,
   "metadata": {},
   "outputs": [
    {
     "name": "stdout",
     "output_type": "stream",
     "text": [
      "[{'summary_text': 'A Large Language Model (LLM) is an advanced artificial intelligence system trained on vast amounts of text data to understand and generate human-like language. These models, such as GPT-4, BERT, and LLaMA, use deep learning techniques, specifically transformers, to process and predict text with high accuracy.'}]\n"
     ]
    }
   ],
   "source": [
    "new_summary = new_summarizer(text)\n",
    "print(new_summary)"
   ]
  },
  {
   "cell_type": "markdown",
   "metadata": {},
   "source": []
  }
 ],
 "metadata": {
  "kernelspec": {
   "display_name": "myenv",
   "language": "python",
   "name": "python3"
  },
  "language_info": {
   "codemirror_mode": {
    "name": "ipython",
    "version": 3
   },
   "file_extension": ".py",
   "mimetype": "text/x-python",
   "name": "python",
   "nbconvert_exporter": "python",
   "pygments_lexer": "ipython3",
   "version": "3.11.11"
  }
 },
 "nbformat": 4,
 "nbformat_minor": 2
}
